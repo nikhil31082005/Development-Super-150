{
 "cells": [
  {
   "cell_type": "code",
   "execution_count": 3,
   "id": "ca970bd0",
   "metadata": {},
   "outputs": [
    {
     "name": "stdout",
     "output_type": "stream",
     "text": [
      "Enter a number : 50\n",
      "factor is odd :  1\n",
      "factor is even :  2\n",
      "factor is odd :  5\n",
      "factor is even :  10\n",
      "factor is odd :  25\n"
     ]
    }
   ],
   "source": [
    "n = int(input(\"Enter a number : \"))\n",
    "for i in range(1,n//+1):\n",
    "    if (n%i==0 and i%2==0):\n",
    "        print(\"factor is even : \",i)\n",
    "    if (n%i==0 and i%2!=0):\n",
    "        print(\"factor is odd : \",i)"
   ]
  },
  {
   "cell_type": "code",
   "execution_count": 4,
   "id": "3bc781d2",
   "metadata": {},
   "outputs": [
    {
     "name": "stdout",
     "output_type": "stream",
     "text": [
      "Python\n",
      "Welcome\n",
      "to\n"
     ]
    }
   ],
   "source": [
    "str = \"Welcome to Python\"\n",
    "ls = str.split(\" \")\n",
    "ls.sort()\n",
    "for i in ls:\n",
    "    print(i)"
   ]
  },
  {
   "cell_type": "code",
   "execution_count": 5,
   "id": "e1f1b1e5",
   "metadata": {},
   "outputs": [
    {
     "ename": "TypeError",
     "evalue": "'str' object is not callable",
     "output_type": "error",
     "traceback": [
      "\u001b[1;31m---------------------------------------------------------------------------\u001b[0m",
      "\u001b[1;31mTypeError\u001b[0m                                 Traceback (most recent call last)",
      "Cell \u001b[1;32mIn[5], line 3\u001b[0m\n\u001b[0;32m      1\u001b[0m values \u001b[38;5;241m=\u001b[39m []\n\u001b[0;32m      2\u001b[0m \u001b[38;5;28;01mfor\u001b[39;00m i \u001b[38;5;129;01min\u001b[39;00m \u001b[38;5;28mrange\u001b[39m(\u001b[38;5;241m1000\u001b[39m,\u001b[38;5;241m3001\u001b[39m):\n\u001b[1;32m----> 3\u001b[0m     s \u001b[38;5;241m=\u001b[39m \u001b[38;5;28;43mstr\u001b[39;49m\u001b[43m(\u001b[49m\u001b[43mi\u001b[49m\u001b[43m)\u001b[49m\n\u001b[0;32m      4\u001b[0m     \u001b[38;5;28;01mif\u001b[39;00m (\u001b[38;5;28mint\u001b[39m(s[\u001b[38;5;241m0\u001b[39m])\u001b[38;5;241m%\u001b[39m\u001b[38;5;241m2\u001b[39m\u001b[38;5;241m==\u001b[39m\u001b[38;5;241m0\u001b[39m) \u001b[38;5;129;01mand\u001b[39;00m (\u001b[38;5;28mint\u001b[39m(s[\u001b[38;5;241m1\u001b[39m])\u001b[38;5;241m%\u001b[39m\u001b[38;5;241m2\u001b[39m\u001b[38;5;241m==\u001b[39m\u001b[38;5;241m0\u001b[39m) \u001b[38;5;129;01mand\u001b[39;00m (\u001b[38;5;28mint\u001b[39m(s[\u001b[38;5;241m2\u001b[39m])\u001b[38;5;241m%\u001b[39m\u001b[38;5;241m2\u001b[39m\u001b[38;5;241m==\u001b[39m\u001b[38;5;241m0\u001b[39m) \u001b[38;5;129;01mand\u001b[39;00m (\u001b[38;5;28mint\u001b[39m(s[\u001b[38;5;241m3\u001b[39m])\u001b[38;5;241m%\u001b[39m\u001b[38;5;241m2\u001b[39m\u001b[38;5;241m==\u001b[39m\u001b[38;5;241m0\u001b[39m):\n\u001b[0;32m      5\u001b[0m         values\u001b[38;5;241m.\u001b[39mappend(s)\n",
      "\u001b[1;31mTypeError\u001b[0m: 'str' object is not callable"
     ]
    }
   ],
   "source": [
    "values = []\n",
    "for i in range(1000,3001):\n",
    "    s = str(i)\n",
    "    if (int(s[0])%2==0) and (int(s[1])%2==0) and (int(s[2])%2==0) and (int(s[3])%2==0):\n",
    "        values.append(s)\n",
    "\n",
    "print (\",\".join(values))\n"
   ]
  },
  {
   "cell_type": "code",
   "execution_count": 7,
   "id": "369a44ab",
   "metadata": {},
   "outputs": [
    {
     "name": "stdout",
     "output_type": "stream",
     "text": [
      "5\n",
      "3\n"
     ]
    }
   ],
   "source": [
    "s = \"aac34520\"\n",
    "digit_count = 0\n",
    "alpha_count = 0\n",
    "for i in s:\n",
    "    if i.isdigit():\n",
    "        digit_count += 1\n",
    "    elif i.isalpha():\n",
    "        alpha_count += 1\n",
    "    else:\n",
    "        pass\n",
    "print(digit_count)\n",
    "print(alpha_count)"
   ]
  },
  {
   "cell_type": "code",
   "execution_count": 9,
   "id": "20b703fb",
   "metadata": {},
   "outputs": [
    {
     "name": "stdout",
     "output_type": "stream",
     "text": [
      "It is palindrome\n"
     ]
    }
   ],
   "source": [
    "my_str = 'aIbohPhoBiA'\n",
    "my_str = my_str.casefold()\n",
    "if my_str == my_str[::-1]:\n",
    "    print(\"It is palindrome\")\n",
    "else:\n",
    "    print(\"It is not palindrome\")\n"
   ]
  },
  {
   "cell_type": "code",
   "execution_count": null,
   "id": "06ede142",
   "metadata": {},
   "outputs": [],
   "source": []
  }
 ],
 "metadata": {
  "kernelspec": {
   "display_name": "Python 3 (ipykernel)",
   "language": "python",
   "name": "python3"
  },
  "language_info": {
   "codemirror_mode": {
    "name": "ipython",
    "version": 3
   },
   "file_extension": ".py",
   "mimetype": "text/x-python",
   "name": "python",
   "nbconvert_exporter": "python",
   "pygments_lexer": "ipython3",
   "version": "3.10.9"
  }
 },
 "nbformat": 4,
 "nbformat_minor": 5
}
