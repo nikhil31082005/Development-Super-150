{
 "cells": [
  {
   "cell_type": "code",
   "execution_count": 1,
   "id": "8128b2d1",
   "metadata": {},
   "outputs": [
    {
     "name": "stdout",
     "output_type": "stream",
     "text": [
      "5\n"
     ]
    }
   ],
   "source": [
    "ls = [1,2,3,4,5]\n",
    "count = 0\n",
    "for i in ls:\n",
    "    count += 1\n",
    "print(count)"
   ]
  },
  {
   "cell_type": "code",
   "execution_count": 2,
   "id": "885b7f1c",
   "metadata": {},
   "outputs": [
    {
     "name": "stdout",
     "output_type": "stream",
     "text": [
      "yes\n"
     ]
    }
   ],
   "source": [
    "ch = \"a\"\n",
    "ch1 = \"b\"\n",
    "if ch in \"aeiou\":\n",
    "    print (\"yes\")\n",
    "else:\n",
    "    print(\"No\")"
   ]
  },
  {
   "cell_type": "code",
   "execution_count": 4,
   "id": "b306378c",
   "metadata": {},
   "outputs": [
    {
     "name": "stdout",
     "output_type": "stream",
     "text": [
      "Enter a number : 5\n",
      "Yes\n"
     ]
    }
   ],
   "source": [
    "container = [1,2,3,4,5,6,7,8,9,0]\n",
    "value = int(input(\"Enter a number : \"))\n",
    "if value in container:\n",
    "    print(\"Yes\")\n",
    "else:\n",
    "    print(\"No\")"
   ]
  },
  {
   "cell_type": "code",
   "execution_count": 5,
   "id": "6f4d2fd9",
   "metadata": {},
   "outputs": [
    {
     "name": "stdout",
     "output_type": "stream",
     "text": [
      "@@\n",
      "@@@@\n",
      "@@@\n",
      "@@@@@\n"
     ]
    }
   ],
   "source": [
    "ls = [2,4,3,5]\n",
    "for i in ls:\n",
    "    print(\"@\"*i)"
   ]
  },
  {
   "cell_type": "code",
   "execution_count": 6,
   "id": "0e7de6f8",
   "metadata": {},
   "outputs": [
    {
     "name": "stdout",
     "output_type": "stream",
     "text": [
      "23245\n"
     ]
    }
   ],
   "source": [
    "ls = [23,2,4,5]\n",
    "result = \"\"\n",
    "for i in ls:\n",
    "    result += str(i)\n",
    "print(result)"
   ]
  },
  {
   "cell_type": "code",
   "execution_count": 7,
   "id": "77ff1332",
   "metadata": {},
   "outputs": [
    {
     "name": "stdout",
     "output_type": "stream",
     "text": [
      "Enter base : 5\n",
      "Enter height : 6\n",
      "15.0\n"
     ]
    }
   ],
   "source": [
    "b = int(input(\"Enter base : \"))\n",
    "h = int(input(\"Enter height : \"))\n",
    "print((b*h)/2)"
   ]
  },
  {
   "cell_type": "code",
   "execution_count": 11,
   "id": "e274d9c9",
   "metadata": {},
   "outputs": [
    {
     "name": "stdout",
     "output_type": "stream",
     "text": [
      "a = 5\n",
      "b = 6\n",
      "c = 6\n",
      "0\n"
     ]
    }
   ],
   "source": [
    "a  =int(input(\"a = \"))\n",
    "b  =int(input(\"b = \"))\n",
    "c  =int(input(\"c = \"))\n",
    "sum = 0\n",
    "if a==b or b == c or c==a :\n",
    "    print(sum)\n",
    "else:\n",
    "    print(a+b+c)"
   ]
  },
  {
   "cell_type": "code",
   "execution_count": 12,
   "id": "906b4851",
   "metadata": {},
   "outputs": [
    {
     "name": "stdout",
     "output_type": "stream",
     "text": [
      "20\n",
      "12\n",
      "22\n"
     ]
    }
   ],
   "source": [
    "def sum(x, y):\n",
    "    sum = x + y\n",
    "    if sum in range(15, 20):\n",
    "        return 20\n",
    "    else:\n",
    "        return sum\n",
    "\n",
    "print(sum(10, 6))"
   ]
  },
  {
   "cell_type": "code",
   "execution_count": 13,
   "id": "d76a60e3",
   "metadata": {},
   "outputs": [
    {
     "name": "stdout",
     "output_type": "stream",
     "text": [
      "True\n"
     ]
    }
   ],
   "source": [
    "def test_number5(x, y):\n",
    "    if x == y or abs(x-y) == 5 or (x+y) == 5:\n",
    "        return True\n",
    "    else:\n",
    "        return False\n",
    "\n",
    "print(test_number5(7, 2))"
   ]
  },
  {
   "cell_type": "code",
   "execution_count": 14,
   "id": "c6684cd0",
   "metadata": {},
   "outputs": [
    {
     "name": "stdout",
     "output_type": "stream",
     "text": [
      "6.324555320336759\n"
     ]
    }
   ],
   "source": [
    "import math\n",
    "p1 = [4, 0]\n",
    "p2 = [6, 6]\n",
    "distance = math.sqrt( ((p1[0]-p2[0])**2)+((p1[1]-p2[1])**2) )\n",
    "\n",
    "print(distance)\n"
   ]
  },
  {
   "cell_type": "code",
   "execution_count": null,
   "id": "2242c954",
   "metadata": {},
   "outputs": [],
   "source": []
  }
 ],
 "metadata": {
  "kernelspec": {
   "display_name": "Python 3 (ipykernel)",
   "language": "python",
   "name": "python3"
  },
  "language_info": {
   "codemirror_mode": {
    "name": "ipython",
    "version": 3
   },
   "file_extension": ".py",
   "mimetype": "text/x-python",
   "name": "python",
   "nbconvert_exporter": "python",
   "pygments_lexer": "ipython3",
   "version": "3.10.9"
  }
 },
 "nbformat": 4,
 "nbformat_minor": 5
}
