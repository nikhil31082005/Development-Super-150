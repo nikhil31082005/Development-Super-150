{
 "cells": [
  {
   "cell_type": "code",
   "execution_count": 2,
   "id": "b1bcaa79",
   "metadata": {},
   "outputs": [],
   "source": [
    "import numpy as np\n"
   ]
  },
  {
   "cell_type": "code",
   "execution_count": 3,
   "id": "5ec2a343",
   "metadata": {},
   "outputs": [
    {
     "name": "stdout",
     "output_type": "stream",
     "text": [
      "1.25.1\n",
      "openblas64__info:\n",
      "    libraries = ['openblas64_', 'openblas64_']\n",
      "    library_dirs = ['openblas\\\\lib']\n",
      "    language = c\n",
      "    define_macros = [('HAVE_CBLAS', None), ('BLAS_SYMBOL_SUFFIX', '64_'), ('HAVE_BLAS_ILP64', None)]\n",
      "    runtime_library_dirs = ['openblas\\\\lib']\n",
      "blas_ilp64_opt_info:\n",
      "    libraries = ['openblas64_', 'openblas64_']\n",
      "    library_dirs = ['openblas\\\\lib']\n",
      "    language = c\n",
      "    define_macros = [('HAVE_CBLAS', None), ('BLAS_SYMBOL_SUFFIX', '64_'), ('HAVE_BLAS_ILP64', None)]\n",
      "    runtime_library_dirs = ['openblas\\\\lib']\n",
      "openblas64__lapack_info:\n",
      "    libraries = ['openblas64_', 'openblas64_']\n",
      "    library_dirs = ['openblas\\\\lib']\n",
      "    language = c\n",
      "    define_macros = [('HAVE_CBLAS', None), ('BLAS_SYMBOL_SUFFIX', '64_'), ('HAVE_BLAS_ILP64', None), ('HAVE_LAPACKE', None)]\n",
      "    runtime_library_dirs = ['openblas\\\\lib']\n",
      "lapack_ilp64_opt_info:\n",
      "    libraries = ['openblas64_', 'openblas64_']\n",
      "    library_dirs = ['openblas\\\\lib']\n",
      "    language = c\n",
      "    define_macros = [('HAVE_CBLAS', None), ('BLAS_SYMBOL_SUFFIX', '64_'), ('HAVE_BLAS_ILP64', None), ('HAVE_LAPACKE', None)]\n",
      "    runtime_library_dirs = ['openblas\\\\lib']\n",
      "Supported SIMD extensions in this NumPy install:\n",
      "    baseline = SSE,SSE2,SSE3\n",
      "    found = SSSE3,SSE41,POPCNT,SSE42,AVX,F16C,FMA3,AVX2\n",
      "    not found = AVX512F,AVX512CD,AVX512_SKX,AVX512_CLX,AVX512_CNL,AVX512_ICL\n",
      "None\n"
     ]
    }
   ],
   "source": [
    "import numpy as np\n",
    "print(np.__version__)\n",
    "print(np.show_config())\n"
   ]
  },
  {
   "cell_type": "code",
   "execution_count": 4,
   "id": "704164fd",
   "metadata": {},
   "outputs": [
    {
     "name": "stdout",
     "output_type": "stream",
     "text": [
      "add(x1, x2, /, out=None, *, where=True, casting='same_kind', order='K', dtype=None, subok=True[, signature, extobj])\n",
      "\n",
      "Add arguments element-wise.\n",
      "\n",
      "Parameters\n",
      "----------\n",
      "x1, x2 : array_like\n",
      "    The arrays to be added.\n",
      "    If ``x1.shape != x2.shape``, they must be broadcastable to a common\n",
      "    shape (which becomes the shape of the output).\n",
      "out : ndarray, None, or tuple of ndarray and None, optional\n",
      "    A location into which the result is stored. If provided, it must have\n",
      "    a shape that the inputs broadcast to. If not provided or None,\n",
      "    a freshly-allocated array is returned. A tuple (possible only as a\n",
      "    keyword argument) must have length equal to the number of outputs.\n",
      "where : array_like, optional\n",
      "    This condition is broadcast over the input. At locations where the\n",
      "    condition is True, the `out` array will be set to the ufunc result.\n",
      "    Elsewhere, the `out` array will retain its original value.\n",
      "    Note that if an uninitialized `out` array is created via the default\n",
      "    ``out=None``, locations within it where the condition is False will\n",
      "    remain uninitialized.\n",
      "**kwargs\n",
      "    For other keyword-only arguments, see the\n",
      "    :ref:`ufunc docs <ufuncs.kwargs>`.\n",
      "\n",
      "Returns\n",
      "-------\n",
      "add : ndarray or scalar\n",
      "    The sum of `x1` and `x2`, element-wise.\n",
      "    This is a scalar if both `x1` and `x2` are scalars.\n",
      "\n",
      "Notes\n",
      "-----\n",
      "Equivalent to `x1` + `x2` in terms of array broadcasting.\n",
      "\n",
      "Examples\n",
      "--------\n",
      ">>> np.add(1.0, 4.0)\n",
      "5.0\n",
      ">>> x1 = np.arange(9.0).reshape((3, 3))\n",
      ">>> x2 = np.arange(3.0)\n",
      ">>> np.add(x1, x2)\n",
      "array([[  0.,   2.,   4.],\n",
      "       [  3.,   5.,   7.],\n",
      "       [  6.,   8.,  10.]])\n",
      "\n",
      "The ``+`` operator can be used as a shorthand for ``np.add`` on ndarrays.\n",
      "\n",
      ">>> x1 = np.arange(9.0).reshape((3, 3))\n",
      ">>> x2 = np.arange(3.0)\n",
      ">>> x1 + x2\n",
      "array([[ 0.,  2.,  4.],\n",
      "       [ 3.,  5.,  7.],\n",
      "       [ 6.,  8., 10.]])\n",
      "None\n"
     ]
    }
   ],
   "source": [
    "import numpy as np\n",
    "print(np.info(np.add))\n"
   ]
  },
  {
   "cell_type": "code",
   "execution_count": 5,
   "id": "0d846350",
   "metadata": {},
   "outputs": [
    {
     "name": "stdout",
     "output_type": "stream",
     "text": [
      "Original array:\n",
      "[1 2 3 4]\n",
      "Test if none of the elements of the said array is zero:\n",
      "True\n"
     ]
    }
   ],
   "source": [
    "import numpy as np\n",
    "x = np.array([1, 2, 3, 4])\n",
    "print(\"Original array:\")\n",
    "print(x)\n",
    "print(\"Test if none of the elements of the said array is zero:\")\n",
    "\n",
    "print(np.all(x))\n"
   ]
  },
  {
   "cell_type": "code",
   "execution_count": 6,
   "id": "00e41aa3",
   "metadata": {},
   "outputs": [
    {
     "name": "stdout",
     "output_type": "stream",
     "text": [
      "Original array:\n",
      "[0 1 2 3]\n",
      "Test if none of the elements of the said array is zero:\n",
      "False\n"
     ]
    }
   ],
   "source": [
    "x = np.array([0, 1, 2, 3])\n",
    "print(\"Original array:\")\n",
    "print(x)\n",
    "print(\"Test if none of the elements of the said array is zero:\")\n",
    "print(np.all(x))\n"
   ]
  },
  {
   "cell_type": "code",
   "execution_count": 7,
   "id": "077edd0f",
   "metadata": {},
   "outputs": [
    {
     "name": "stdout",
     "output_type": "stream",
     "text": [
      "Original array:\n",
      "[1 0 0 0]\n",
      "Test whether any of the elements of a given array is non-zero:\n",
      "True\n"
     ]
    }
   ],
   "source": [
    "import numpy as np\n",
    "x = np.array([1, 0, 0, 0])\n",
    "print(\"Original array:\")\n",
    "print(x)\n",
    "print(\"Test whether any of the elements of a given array is non-zero:\")\n",
    "print(np.any(x))\n"
   ]
  },
  {
   "cell_type": "code",
   "execution_count": 8,
   "id": "66dd66f6",
   "metadata": {},
   "outputs": [
    {
     "name": "stdout",
     "output_type": "stream",
     "text": [
      "Original array\n",
      "[ 1.  0. nan inf]\n",
      "Test a given array element-wise for finiteness :\n",
      "[ True  True False False]\n"
     ]
    }
   ],
   "source": [
    "a = np.array([1, 0, np.nan, np.inf])\n",
    "print(\"Original array\")\n",
    "print(a)\n",
    "print(\"Test a given array element-wise for finiteness :\")\n",
    "print(np.isfinite(a))\n"
   ]
  },
  {
   "cell_type": "code",
   "execution_count": 9,
   "id": "d46aab08",
   "metadata": {},
   "outputs": [
    {
     "name": "stdout",
     "output_type": "stream",
     "text": [
      "Original array\n",
      "[ 1.  0. nan inf]\n",
      "Test element-wise for positive or negative infinity:\n",
      "[False False False  True]\n"
     ]
    }
   ],
   "source": [
    "a = np.array([1, 0, np.nan, np.inf])\n",
    "print(\"Original array\")\n",
    "print(a)\n",
    "print(\"Test element-wise for positive or negative infinity:\")\n",
    "print(np.isinf(a))\n"
   ]
  },
  {
   "cell_type": "code",
   "execution_count": 10,
   "id": "3022b17a",
   "metadata": {},
   "outputs": [
    {
     "name": "stdout",
     "output_type": "stream",
     "text": [
      "Original array\n",
      "[ 1.  0. nan inf]\n",
      "Test element-wise for NaN:\n",
      "[False False  True False]\n"
     ]
    }
   ],
   "source": [
    "a = np.array([1, 0, np.nan, np.inf])\n",
    "print(\"Original array\")\n",
    "print(a)\n",
    "print(\"Test element-wise for NaN:\")\n",
    "print(np.isnan(a))"
   ]
  },
  {
   "cell_type": "code",
   "execution_count": 11,
   "id": "b12d1991",
   "metadata": {},
   "outputs": [
    {
     "name": "stdout",
     "output_type": "stream",
     "text": [
      "Original array\n",
      "[1. +1.j 1. +0.j 4.5+0.j 3. +0.j 2. +0.j 0. +2.j]\n",
      "Checking for complex number:\n",
      "[ True False False False False  True]\n",
      "Checking for real number:\n",
      "[False  True  True  True  True False]\n",
      "Checking for scalar type:\n",
      "True\n",
      "False\n"
     ]
    }
   ],
   "source": [
    "a = np.array([1+1j, 1+0j, 4.5, 3, 2, 2j])\n",
    "print(\"Original array\")\n",
    "print(a)\n",
    "print(\"Checking for complex number:\")\n",
    "print(np.iscomplex(a))\n",
    "print(\"Checking for real number:\")\n",
    "print(np.isreal(a))\n",
    "print(\"Checking for scalar type:\")\n",
    "print(np.isscalar(3.1))\n",
    "print(np.isscalar([3.1]))\n"
   ]
  },
  {
   "cell_type": "code",
   "execution_count": 12,
   "id": "e0dd67ff",
   "metadata": {},
   "outputs": [
    {
     "name": "stdout",
     "output_type": "stream",
     "text": [
      "Original numbers:\n",
      "[3 5]\n",
      "[2 5]\n",
      "Comparison - greater\n",
      "[ True False]\n",
      "Comparison - greater_equal\n",
      "[ True  True]\n",
      "Comparison - less\n",
      "[False False]\n",
      "Comparison - less_equal\n",
      "[False  True]\n"
     ]
    }
   ],
   "source": [
    "x = np.array([3, 5])\n",
    "y = np.array([2, 5])\n",
    "print(\"Original numbers:\")\n",
    "print(x)\n",
    "print(y)\n",
    "print(\"Comparison - greater\")\n",
    "print(np.greater(x, y))\n",
    "print(\"Comparison - greater_equal\")\n",
    "print(np.greater_equal(x, y))\n",
    "print(\"Comparison - less\")\n",
    "print(np.less(x, y))\n",
    "print(\"Comparison - less_equal\")\n",
    "print(np.less_equal(x, y))\n"
   ]
  },
  {
   "cell_type": "code",
   "execution_count": 13,
   "id": "23ab133c",
   "metadata": {},
   "outputs": [
    {
     "name": "stdout",
     "output_type": "stream",
     "text": [
      "Original numbers:\n",
      "[  72   79   85   90  150 -135  120  -10   60  100]\n",
      "[  72.         79.         85.         90.        150.       -135.\n",
      "  120.        -10.         60.        100.000001]\n",
      "Comparison - equal:\n",
      "[ True  True  True  True  True  True  True  True  True False]\n",
      "Comparison - equal within a tolerance:\n",
      "True\n"
     ]
    }
   ],
   "source": [
    "x = np.array([72, 79, 85, 90, 150, -135, 120, -10, 60, 100])\n",
    "y = np.array([72, 79, 85, 90, 150, -135, 120, -10, 60, 100.000001])\n",
    "print(\"Original numbers:\")\n",
    "print(x)\n",
    "print(y)\n",
    "print(\"Comparison - equal:\")\n",
    "print(np.equal(x, y))\n",
    "print(\"Comparison - equal within a tolerance:\")\n",
    "print(np.allclose(x, y))\n"
   ]
  },
  {
   "cell_type": "code",
   "execution_count": 14,
   "id": "226303fa",
   "metadata": {},
   "outputs": [
    {
     "name": "stdout",
     "output_type": "stream",
     "text": [
      "Original array:\n",
      "[  1   7  13 105]\n",
      "Size of the memory occupied by the said array:\n",
      "16 bytes\n"
     ]
    }
   ],
   "source": [
    "X = np.array([1, 7, 13, 105])\n",
    "print(\"Original array:\")\n",
    "print(X)\n",
    "print(\"Size of the memory occupied by the said array:\")\n",
    "print(\"%d bytes\" % (X.size * X.itemsize))\n"
   ]
  },
  {
   "cell_type": "code",
   "execution_count": 15,
   "id": "ed73e3bc",
   "metadata": {},
   "outputs": [
    {
     "name": "stdout",
     "output_type": "stream",
     "text": [
      "An array of 10 zeros:\n",
      "[0. 0. 0. 0. 0. 0. 0. 0. 0. 0.]\n",
      "An array of 10 ones:\n",
      "[1. 1. 1. 1. 1. 1. 1. 1. 1. 1.]\n",
      "An array of 10 fives:\n",
      "[5. 5. 5. 5. 5. 5. 5. 5. 5. 5.]\n"
     ]
    }
   ],
   "source": [
    "array=np.zeros(10)\n",
    "print(\"An array of 10 zeros:\")\n",
    "print(array)\n",
    "array=np.ones(10)\n",
    "print(\"An array of 10 ones:\")\n",
    "print(array)\n",
    "array=np.ones(10)*5\n",
    "print(\"An array of 10 fives:\")\n",
    "print(array)\n"
   ]
  },
  {
   "cell_type": "code",
   "execution_count": 16,
   "id": "e7db7e3c",
   "metadata": {},
   "outputs": [
    {
     "name": "stdout",
     "output_type": "stream",
     "text": [
      "Array of the integers from 30 to70\n",
      "[30 31 32 33 34 35 36 37 38 39 40 41 42 43 44 45 46 47 48 49 50 51 52 53\n",
      " 54 55 56 57 58 59 60 61 62 63 64 65 66 67 68 69 70]\n"
     ]
    }
   ],
   "source": [
    "array=np.arange(30,71)\n",
    "print(\"Array of the integers from 30 to70\")\n",
    "print(array)"
   ]
  },
  {
   "cell_type": "code",
   "execution_count": 17,
   "id": "39c9cf05",
   "metadata": {},
   "outputs": [
    {
     "name": "stdout",
     "output_type": "stream",
     "text": [
      "Array of all the even integers from 30 to 70\n",
      "[30 32 34 36 38 40 42 44 46 48 50 52 54 56 58 60 62 64 66 68 70]\n"
     ]
    }
   ],
   "source": [
    "array=np.arange(30,71,2)\n",
    "print(\"Array of all the even integers from 30 to 70\")\n",
    "print(array)\n"
   ]
  }
 ],
 "metadata": {
  "kernelspec": {
   "display_name": "Python 3 (ipykernel)",
   "language": "python",
   "name": "python3"
  },
  "language_info": {
   "codemirror_mode": {
    "name": "ipython",
    "version": 3
   },
   "file_extension": ".py",
   "mimetype": "text/x-python",
   "name": "python",
   "nbconvert_exporter": "python",
   "pygments_lexer": "ipython3",
   "version": "3.11.4"
  }
 },
 "nbformat": 4,
 "nbformat_minor": 5
}
